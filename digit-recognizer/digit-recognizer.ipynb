{
 "cells": [
  {
   "cell_type": "code",
   "execution_count": 141,
   "metadata": {
    "pycharm": {
     "is_executing": false
    }
   },
   "outputs": [],
   "source": [
    "from pathlib import Path\n",
    "import matplotlib.pyplot as plt\n",
    "from torch.utils.data import Dataset, DataLoader\n",
    "import torch\n",
    "import torch.nn as nn\n",
    "import torch.nn.functional as F\n",
    "import numpy as np\n",
    "from pandas import read_csv\n",
    "\n",
    "device = torch.device(\"cuda:0\" if torch.cuda.is_available() else \"cpu\")\n",
    "batch_size = 32"
   ]
  },
  {
   "cell_type": "code",
   "execution_count": 142,
   "metadata": {
    "pycharm": {
     "is_executing": false,
     "name": "#%%\n"
    }
   },
   "outputs": [],
   "source": [
    "class MNISTDataset(Dataset):\n",
    "    def __init__(self, path: Path, train=True):\n",
    "        self.X = torch.Tensor(read_csv(path, dtype=\"float32\").to_numpy())\n",
    "        self.train = train\n",
    "        if train:\n",
    "            self.y = self.X[:, 0]\n",
    "            self.X = self.X[:, 1:]\n",
    "    \n",
    "    def __len__(self):\n",
    "        return len(self.X)\n",
    "    \n",
    "    def __getitem__(self, index: int):\n",
    "        if self.train:\n",
    "            return self.X[index], self.y[index].long()\n",
    "        else:\n",
    "            return self.X[index]"
   ]
  },
  {
   "cell_type": "code",
   "execution_count": 143,
   "metadata": {
    "pycharm": {
     "is_executing": false,
     "name": "#%%\n"
    }
   },
   "outputs": [],
   "source": [
    "trainset = MNISTDataset(Path(\"data\") / \"train.csv\")\n",
    "trainloader = DataLoader(trainset, batch_size=batch_size, shuffle=True, num_workers=2)"
   ]
  },
  {
   "cell_type": "code",
   "execution_count": 144,
   "metadata": {
    "pycharm": {
     "is_executing": false,
     "name": "#%%\n"
    }
   },
   "outputs": [
    {
     "data": {
      "text/plain": "<matplotlib.image.AxesImage at 0x7f6d80a8e290>"
     },
     "metadata": {},
     "output_type": "execute_result",
     "execution_count": 144
    },
    {
     "data": {
      "text/plain": "<Figure size 432x288 with 1 Axes>",
      "image/png": "[encoded data removed]"
     },
     "metadata": {
      "needs_background": "light"
     },
     "output_type": "display_data"
    }
   ],
   "source": [
    "image, label = iter(trainloader).next()\n",
    "plt.imshow(image[0].reshape((28, 28)), cmap=\"gray\")"
   ]
  },
  {
   "cell_type": "code",
   "execution_count": 145,
   "metadata": {
    "pycharm": {
     "is_executing": false,
     "name": "#%%\n"
    }
   },
   "outputs": [],
   "source": [
    "class Net(nn.Module):\n",
    "    def __init__(self):\n",
    "        super().__init__()\n",
    "        self.conv1 = nn.Conv2d(1, 16, kernel_size=3, stride=2, padding=1)\n",
    "        self.conv2 = nn.Conv2d(16, 16, kernel_size=3, stride=2, padding=1)\n",
    "        self.conv3 = nn.Conv2d(16, 10, kernel_size=3, stride=2, padding=1)\n",
    "        \n",
    "    def forward(self, X: torch.Tensor):\n",
    "        X = X.view(-1, 1, 28, 28)\n",
    "        X = F.relu(self.conv1(X))\n",
    "        X = F.relu(self.conv2(X))\n",
    "        X = F.relu(self.conv3(X))\n",
    "        X = F.adaptive_avg_pool2d(X, 1)\n",
    "        return X.view(-1, X.size(1))\n",
    "    \n",
    "net = Net().to(device)"
   ]
  },
  {
   "cell_type": "code",
   "execution_count": 146,
   "metadata": {
    "pycharm": {
     "is_executing": false,
     "name": "#%%\n"
    }
   },
   "outputs": [
    {
     "data": {
      "text/plain": "tensor([[7.3124e-01, 5.2673e+00, 1.0373e+00, 1.1032e+00, 6.9394e+00, 7.8985e-01,\n         5.5129e-01, 1.4933e+00, 2.5432e-01, 3.4153e+00],\n        [4.1353e-01, 2.6992e+00, 4.8907e-01, 6.0092e-01, 2.3013e+00, 5.1326e-01,\n         1.5023e-01, 6.7445e-01, 1.6483e-01, 1.1642e+00],\n        [3.7290e-01, 3.9151e+00, 2.7705e-02, 1.0633e+00, 5.4372e+00, 8.3794e-01,\n         1.8770e-01, 1.9544e+00, 1.7778e+00, 1.1357e+00],\n        [1.1565e+00, 4.3307e+00, 7.5646e-01, 1.2858e-01, 7.9774e+00, 1.1532e+00,\n         2.5366e-01, 2.0896e+00, 1.5981e+00, 2.3173e+00],\n        [1.4382e+00, 4.0402e+00, 5.8557e-01, 2.5855e-01, 5.9482e+00, 9.0887e-01,\n         2.1324e-01, 6.1309e-01, 5.5935e-01, 2.3962e+00],\n        [8.7856e-01, 4.6826e+00, 6.6722e-01, 1.1175e+00, 6.7052e+00, 5.9742e-01,\n         1.2589e+00, 1.1870e+00, 6.1837e-01, 1.1972e+00],\n        [8.1678e-01, 4.7267e+00, 6.7857e-01, 6.5097e-01, 6.2867e+00, 1.3328e+00,\n         5.2711e-01, 1.2431e+00, 1.1619e+00, 2.3371e+00],\n        [8.5689e-01, 4.9188e+00, 6.8623e-01, 1.5477e+00, 7.2937e+00, 1.0520e+00,\n         2.8572e-01, 4.5790e-01, 1.4099e+00, 2.2599e+00],\n        [6.0303e-01, 3.0723e+00, 9.5163e-01, 1.1590e+00, 6.4985e+00, 8.7618e-01,\n         1.3503e+00, 6.2138e-01, 1.1412e+00, 1.3512e+00],\n        [6.4450e-01, 3.6430e+00, 3.3547e-01, 4.4806e-01, 7.0552e+00, 1.4494e+00,\n         6.0012e-01, 1.9021e+00, 6.2592e-01, 1.9630e+00],\n        [6.8618e-01, 4.3702e+00, 9.4485e-01, 1.5472e+00, 6.9936e+00, 7.3901e-01,\n         6.8799e-01, 6.8565e-01, 1.3420e+00, 2.8524e+00],\n        [1.6354e+00, 6.0233e+00, 1.3300e+00, 1.4879e+00, 8.5533e+00, 7.5913e-01,\n         8.0981e-01, 2.0484e+00, 7.8346e-01, 3.8524e+00],\n        [1.3840e+00, 5.0609e+00, 1.2059e+00, 1.0604e+00, 8.2201e+00, 3.5797e-01,\n         1.6039e+00, 2.0933e+00, 8.3967e-01, 2.2583e+00],\n        [8.1828e-01, 2.6351e+00, 9.0488e-01, 6.8052e-01, 2.3007e+00, 1.2420e-01,\n         2.4596e-01, 4.7608e-01, 1.2561e-01, 1.2948e+00],\n        [1.3553e+00, 4.8237e+00, 9.7447e-01, 1.2773e+00, 6.9225e+00, 8.4368e-01,\n         9.7788e-02, 1.6552e+00, 1.4439e+00, 1.5416e+00],\n        [7.5039e-01, 7.7422e+00, 7.7267e-01, 9.6246e-01, 9.4045e+00, 7.1216e-01,\n         5.3979e-03, 2.8654e+00, 1.2843e+00, 2.5353e+00],\n        [8.3452e-01, 4.1658e+00, 1.3650e+00, 1.0063e+00, 6.1617e+00, 6.0259e-01,\n         4.4731e-01, 8.1853e-01, 1.2924e+00, 2.1508e+00],\n        [1.6863e+00, 4.6470e+00, 9.3175e-01, 9.1629e-01, 7.1863e+00, 9.3636e-01,\n         1.1162e+00, 1.0024e+00, 1.3515e+00, 2.1246e+00],\n        [1.1541e+00, 4.3041e+00, 1.1154e+00, 1.5323e-01, 6.3362e+00, 6.7435e-01,\n         6.5604e-01, 7.0950e-01, 1.2585e+00, 2.1964e+00],\n        [7.8487e-01, 5.4571e+00, 8.2584e-01, 9.4031e-01, 7.9035e+00, 8.8824e-01,\n         2.5771e-01, 1.4285e+00, 1.2549e+00, 3.5334e+00],\n        [1.2523e+00, 4.8096e+00, 1.6910e+00, 7.3862e-01, 7.5675e+00, 4.2370e-01,\n         9.6623e-01, 1.9714e+00, 1.2780e+00, 2.6119e+00],\n        [9.7173e-01, 6.2502e+00, 8.3098e-01, 1.4393e+00, 7.7708e+00, 1.5453e+00,\n         6.9627e-01, 1.5876e+00, 1.5729e+00, 2.2172e+00],\n        [4.1931e-01, 5.9794e+00, 6.8180e-01, 1.1140e+00, 8.6494e+00, 1.4143e+00,\n         5.3289e-01, 3.0281e-01, 1.9889e+00, 4.0129e+00],\n        [6.3664e-01, 3.2864e+00, 5.7038e-01, 9.7666e-01, 4.4379e+00, 1.1139e+00,\n         2.8586e-01, 1.2429e+00, 7.5401e-01, 1.2880e+00],\n        [5.0602e-01, 2.3830e+00, 3.9221e-01, 6.9042e-01, 3.4260e+00, 9.9491e-01,\n         3.5254e-01, 4.3434e-01, 7.2649e-01, 1.6523e+00],\n        [3.5741e-01, 2.7046e+00, 4.5888e-01, 7.4692e-01, 6.2052e+00, 5.0079e-01,\n         7.6845e-01, 7.8759e-01, 1.5860e+00, 1.7344e+00],\n        [4.7213e-01, 4.1425e+00, 7.5297e-01, 7.3240e-01, 4.1364e+00, 8.4710e-01,\n         8.9673e-01, 9.6385e-01, 8.0956e-01, 1.5208e+00],\n        [9.7576e-01, 5.0630e+00, 9.0418e-01, 5.9756e-01, 7.7812e+00, 1.2015e+00,\n         2.6030e-01, 1.6534e+00, 1.8124e+00, 1.6695e+00],\n        [4.5594e-01, 2.1549e+00, 6.1919e-01, 3.5218e-01, 2.3501e+00, 1.0265e+00,\n         0.0000e+00, 5.8994e-01, 5.5972e-01, 4.9467e-01],\n        [5.0402e-01, 3.9092e+00, 9.3732e-01, 8.9889e-01, 5.1871e+00, 5.5789e-01,\n         8.7777e-01, 1.0954e+00, 7.3865e-01, 1.6062e+00],\n        [1.0448e+00, 8.8853e+00, 1.5219e+00, 1.9180e+00, 1.3382e+01, 5.2435e-01,\n         5.9406e-01, 2.3982e+00, 1.0958e+00, 4.5104e+00],\n        [1.7264e+00, 6.9726e+00, 9.6725e-01, 5.0057e-01, 1.2668e+01, 9.0941e-01,\n         7.7575e-01, 2.3418e+00, 1.4438e+00, 4.5563e+00]], device='cuda:0',\n       grad_fn=<ViewBackward>)"
     },
     "metadata": {},
     "output_type": "execute_result",
     "execution_count": 146
    }
   ],
   "source": [
    "net(iter(trainloader).next()[0].to(device))"
   ]
  },
  {
   "cell_type": "code",
   "execution_count": 147,
   "metadata": {
    "pycharm": {
     "is_executing": false,
     "name": "#%%\n"
    }
   },
   "outputs": [],
   "source": [
    "criterion = nn.CrossEntropyLoss()\n",
    "optimizer = torch.optim.SGD(net.parameters(), lr=0.001, momentum=0.9)"
   ]
  },
  {
   "cell_type": "code",
   "execution_count": 148,
   "outputs": [
    {
     "name": "stdout",
     "text": [
      "0.8151177546410333\n",
      "0.3647823683080219\n",
      "0.2834104461442857\n",
      "0.24583148183141437\n",
      "0.22271391439437865\n",
      "0.20606740959485373\n",
      "0.1870752580165863\n",
      "0.17999277562186833\n",
      "0.16850083267121088\n",
      "0.1615918190365746\n"
     ],
     "output_type": "stream"
    }
   ],
   "source": [
    "for epoch in range(10):\n",
    "    running_loss = 0.0\n",
    "    \n",
    "    for images, labels in iter(trainloader):\n",
    "        images = images.to(device)\n",
    "        labels = labels.to(device)\n",
    "        optimizer.zero_grad()\n",
    "        output = net(images)\n",
    "        loss = criterion(output, labels)\n",
    "        loss.backward()\n",
    "        optimizer.step()\n",
    "        \n",
    "        running_loss += loss.item() * batch_size\n",
    "    print(running_loss / len(trainset))"
   ],
   "metadata": {
    "collapsed": false,
    "pycharm": {
     "name": "#%%\n",
     "is_executing": false
    }
   }
  },
  {
   "cell_type": "code",
   "execution_count": 149,
   "outputs": [],
   "source": [
    "torch.save(net.state_dict(), Path(\"model\") / \"mnist_net.pt\")"
   ],
   "metadata": {
    "collapsed": false,
    "pycharm": {
     "name": "#%%\n",
     "is_executing": false
    }
   }
  },
  {
   "cell_type": "code",
   "execution_count": 150,
   "outputs": [],
   "source": [
    "testset = MNISTDataset(Path(\"data\") / \"test.csv\", train=False)\n",
    "testloader = DataLoader(testset, batch_size=batch_size, num_workers=2)\n",
    "\n",
    "net.eval()\n",
    "predicted = []\n",
    "for images in iter(testloader):\n",
    "    images = images.to(device)\n",
    "    output = net(images)\n",
    "    predicted += torch.argmax(output, dim=1).tolist()"
   ],
   "metadata": {
    "collapsed": false,
    "pycharm": {
     "name": "#%%\n",
     "is_executing": false
    }
   }
  },
  {
   "cell_type": "code",
   "execution_count": 151,
   "outputs": [],
   "source": [
    "import csv\n",
    "with open(\"submission.csv\", \"w\") as f:\n",
    "    writer = csv.writer(f)\n",
    "    writer.writerow([\"ImageId\", \"Label\"])\n",
    "    for i, label in enumerate(predicted, 1):\n",
    "        writer.writerow([i, label])\n",
    "\n"
   ],
   "metadata": {
    "collapsed": false,
    "pycharm": {
     "name": "#%%\n",
     "is_executing": false
    }
   }
  }
 ],
 "metadata": {
  "kernelspec": {
   "display_name": "PyCharm (Pytorch tutorial)",
   "language": "python",
   "name": "pycharm-a3d68ea9"
  },
  "language_info": {
   "codemirror_mode": {
    "name": "ipython",
    "version": 3
   },
   "file_extension": ".py",
   "mimetype": "text/x-python",
   "name": "python",
   "nbconvert_exporter": "python",
   "pygments_lexer": "ipython3",
   "version": "3.7.7"
  },
  "pycharm": {
   "stem_cell": {
    "cell_type": "raw",
    "source": [],
    "metadata": {
     "collapsed": false
    }
   }
  }
 },
 "nbformat": 4,
 "nbformat_minor": 1
}