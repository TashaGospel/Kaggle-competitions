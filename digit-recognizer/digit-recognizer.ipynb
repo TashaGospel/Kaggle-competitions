{
 "cells": [
  {
   "cell_type": "code",
   "execution_count": 34,
   "metadata": {
    "pycharm": {
     "is_executing": false
    }
   },
   "outputs": [],
   "source": [
    "from pathlib import Path\n",
    "import matplotlib.pyplot as plt\n",
    "from torch.utils.data import Dataset, DataLoader\n",
    "import torch\n",
    "import torch.nn as nn\n",
    "import torch.nn.functional as F\n",
    "from pandas import read_csv\n",
    "\n",
    "device = torch.device(\"cuda:0\" if torch.cuda.is_available() else \"cpu\")\n",
    "batch_size = 64"
   ]
  },
  {
   "cell_type": "code",
   "execution_count": 35,
   "metadata": {
    "pycharm": {
     "is_executing": false,
     "name": "#%%\n"
    }
   },
   "outputs": [],
   "source": [
    "class MNISTDataset(Dataset):\n",
    "    def __init__(self, path: Path, train=True):\n",
    "        self.X = torch.tensor(read_csv(path, dtype=\"float32\").to_numpy())\n",
    "        self.train = train\n",
    "        if train:\n",
    "            self.y = self.X[:, 0]\n",
    "            self.X = self.X[:, 1:]\n",
    "    \n",
    "    def __len__(self):\n",
    "        return len(self.X)\n",
    "    \n",
    "    def __getitem__(self, index: int):\n",
    "        if self.train:\n",
    "            return self.X[index], self.y[index].long()\n",
    "        else:\n",
    "            return self.X[index]"
   ]
  },
  {
   "cell_type": "code",
   "execution_count": 36,
   "metadata": {
    "pycharm": {
     "is_executing": false,
     "name": "#%%\n"
    }
   },
   "outputs": [],
   "source": [
    "trainset = MNISTDataset(Path(\"data\") / \"train.csv\")\n",
    "trainloader = DataLoader(trainset, batch_size=batch_size, shuffle=True, num_workers=2)"
   ]
  },
  {
   "cell_type": "code",
   "execution_count": 37,
   "metadata": {
    "pycharm": {
     "is_executing": false,
     "name": "#%%\n"
    }
   },
   "outputs": [
    {
     "data": {
      "text/plain": "<matplotlib.image.AxesImage at 0x7f0a8127c410>"
     },
     "metadata": {},
     "output_type": "execute_result",
     "execution_count": 37
    },
    {
     "data": {
      "text/plain": "<Figure size 432x288 with 1 Axes>",
      "image/png": "[encoded data removed]"
     },
     "metadata": {
      "needs_background": "light"
     },
     "output_type": "display_data"
    }
   ],
   "source": [
    "image, label = iter(trainloader).next()\n",
    "plt.imshow(image[0].reshape((28, 28)), cmap=\"gray\")"
   ]
  },
  {
   "cell_type": "code",
   "execution_count": 38,
   "metadata": {
    "pycharm": {
     "is_executing": false,
     "name": "#%%\n"
    }
   },
   "outputs": [],
   "source": [
    "class Net(nn.Module):\n",
    "    def __init__(self):\n",
    "        super().__init__()\n",
    "        self.conv1 = nn.Conv2d(1, 16, kernel_size=3, stride=2, padding=1)\n",
    "        self.conv2 = nn.Conv2d(16, 16, kernel_size=3, stride=2, padding=1)\n",
    "        self.conv3 = nn.Conv2d(16, 10, kernel_size=3, stride=2, padding=1)\n",
    "        \n",
    "    def forward(self, X: torch.Tensor):\n",
    "        X = X.view(-1, 1, 28, 28)\n",
    "        X = F.relu(self.conv1(X))\n",
    "        X = F.relu(self.conv2(X))\n",
    "        X = F.relu(self.conv3(X))\n",
    "        X = F.adaptive_avg_pool2d(X, 1)\n",
    "        return X.view(-1, X.size(1))\n",
    "    \n",
    "net = Net().to(device)"
   ]
  },
  {
   "cell_type": "code",
   "execution_count": 39,
   "metadata": {
    "pycharm": {
     "is_executing": false,
     "name": "#%%\n"
    }
   },
   "outputs": [
    {
     "data": {
      "text/plain": "tensor([[1.2614e+00, 1.6455e-01, 1.6705e+00, 8.2563e-01, 4.2784e-01, 1.2555e+00,\n         3.1589e-02, 3.1446e-01, 3.1774e+00, 3.1665e+00],\n        [1.1958e+00, 3.8930e-01, 3.2978e+00, 8.7189e-01, 1.1617e+00, 1.3328e+00,\n         2.1994e-01, 9.3134e-02, 5.4980e+00, 4.5219e+00],\n        [8.8147e-01, 2.6193e-01, 1.9780e+00, 2.4867e-01, 5.0229e-01, 1.0422e+00,\n         2.3403e-02, 3.0852e-01, 1.7039e+00, 1.8625e+00],\n        [5.8476e-01, 4.3814e-01, 2.1378e+00, 5.9058e-01, 7.4954e-01, 1.0664e+00,\n         1.0761e-01, 5.3302e-01, 1.4591e+00, 1.7769e+00],\n        [7.6129e-01, 4.8302e-01, 3.6022e+00, 5.8567e-01, 8.2423e-01, 9.2774e-01,\n         1.5148e-01, 1.2440e-01, 3.7999e+00, 3.6629e+00],\n        [8.5721e-01, 4.6696e-01, 1.6584e+00, 9.9135e-01, 5.1998e-01, 1.1532e+00,\n         2.5377e-01, 3.2899e-01, 2.0417e+00, 2.0483e+00],\n        [8.6295e-01, 2.8055e-01, 1.8380e+00, 6.5674e-01, 4.2187e-01, 1.0015e+00,\n         1.4991e-01, 7.8930e-01, 2.1815e+00, 1.6001e+00],\n        [6.9989e-01, 4.8968e-01, 2.4120e+00, 3.2374e-01, 5.9051e-01, 6.9365e-01,\n         1.3791e-02, 6.3932e-01, 2.7473e+00, 2.3573e+00],\n        [1.6332e+00, 8.6665e-01, 5.4395e+00, 6.9356e-01, 1.3596e+00, 1.6151e+00,\n         1.9378e-01, 2.6610e-01, 6.6510e+00, 3.6788e+00],\n        [2.3649e+00, 3.8116e-01, 3.4783e+00, 1.3286e+00, 8.2326e-01, 1.1159e+00,\n         1.1699e-02, 4.4268e-01, 4.0211e+00, 2.2328e+00],\n        [1.1297e+00, 2.4823e-01, 2.0930e+00, 1.9820e+00, 4.5919e-01, 6.8013e-01,\n         1.6052e-01, 7.8711e-01, 4.0116e+00, 2.9016e+00],\n        [1.0884e+00, 8.6167e-01, 2.1982e+00, 1.8244e+00, 9.7543e-01, 1.5026e+00,\n         9.2199e-02, 6.6061e-01, 3.2666e+00, 2.2373e+00],\n        [8.8468e-01, 2.3619e-01, 2.4408e+00, 1.3174e+00, 3.8993e-01, 9.7495e-01,\n         1.1266e-01, 6.4364e-01, 3.2486e+00, 2.3111e+00],\n        [7.3846e-01, 1.5297e+00, 1.0320e+00, 6.6919e-01, 9.5766e-01, 8.6399e-01,\n         7.9302e-02, 7.7588e-01, 2.3380e+00, 1.2113e+00],\n        [1.5156e+00, 5.6357e-01, 3.0853e+00, 1.4365e+00, 1.4233e+00, 1.2337e+00,\n         2.3196e-01, 4.3889e-01, 3.7700e+00, 3.8705e+00],\n        [1.4301e+00, 1.3234e+00, 2.1604e+00, 1.2951e+00, 7.4451e-01, 1.1031e+00,\n         1.0964e-01, 6.3335e-01, 3.3449e+00, 1.9214e+00],\n        [1.0134e+00, 9.0306e-01, 3.5300e+00, 1.6686e+00, 6.3323e-01, 1.7159e+00,\n         4.3551e-02, 6.4070e-01, 3.3853e+00, 2.8953e+00],\n        [7.6776e-01, 4.4996e-01, 3.4989e+00, 1.6380e+00, 8.1401e-01, 1.0780e+00,\n         1.9559e-01, 3.6556e-01, 4.7597e+00, 4.9188e+00],\n        [1.5181e+00, 6.1649e-01, 4.9715e+00, 1.0653e+00, 1.0384e+00, 1.9615e+00,\n         5.9520e-03, 2.0034e-01, 5.5042e+00, 5.2533e+00],\n        [1.5023e+00, 1.2530e+00, 4.0270e+00, 9.7303e-01, 9.8081e-01, 8.0976e-01,\n         1.5348e-01, 7.4279e-01, 3.7438e+00, 4.0777e+00],\n        [1.5588e+00, 7.9651e-01, 4.8501e+00, 9.4972e-01, 2.2530e+00, 9.6545e-01,\n         2.2602e-01, 4.1059e-01, 5.3686e+00, 5.1832e+00],\n        [1.3923e+00, 3.6226e-01, 3.7747e+00, 1.7472e+00, 1.2542e+00, 8.7827e-01,\n         9.5429e-02, 7.6659e-01, 4.4918e+00, 2.8602e+00],\n        [1.1588e+00, 1.3843e-01, 2.9947e+00, 1.5865e+00, 7.1032e-01, 1.2606e+00,\n         9.5393e-02, 3.1743e-01, 4.3509e+00, 4.5642e+00],\n        [1.7373e+00, 2.5298e-01, 4.0796e+00, 7.4489e-01, 9.4551e-01, 9.0404e-01,\n         3.2072e-02, 3.6970e-01, 5.7755e+00, 5.3960e+00],\n        [6.8819e-01, 2.8913e-01, 2.3644e+00, 1.3566e+00, 6.4932e-01, 1.0332e+00,\n         8.5799e-02, 5.9620e-01, 2.4387e+00, 1.8351e+00],\n        [8.1668e-01, 4.6618e-01, 1.9852e+00, 6.4088e-01, 5.5595e-01, 6.3038e-01,\n         6.0059e-02, 2.9793e-01, 2.9964e+00, 3.4175e+00],\n        [2.2143e+00, 6.3270e-01, 3.1481e+00, 1.2729e+00, 8.4528e-01, 1.4075e+00,\n         3.0601e-01, 3.8036e-01, 4.1309e+00, 3.0948e+00],\n        [1.4720e+00, 7.0752e-01, 3.4528e+00, 1.2514e+00, 1.2173e+00, 9.4974e-01,\n         1.1699e-02, 4.6261e-01, 4.5424e+00, 3.7252e+00],\n        [9.1923e-01, 3.5267e-02, 3.1035e+00, 1.4855e+00, 9.3532e-01, 6.2440e-01,\n         1.0533e-01, 3.7830e-01, 5.2949e+00, 4.0834e+00],\n        [8.5883e-01, 4.6747e-01, 3.7114e+00, 1.0679e+00, 1.0906e+00, 1.3312e+00,\n         3.6488e-02, 3.1145e-01, 3.6575e+00, 4.5698e+00],\n        [1.2029e+00, 4.5573e-01, 1.9980e+00, 1.3903e+00, 7.7405e-01, 9.5149e-01,\n         1.6254e-02, 4.0649e-01, 2.4831e+00, 2.3839e+00],\n        [1.1640e+00, 9.9624e-01, 3.5890e+00, 4.4578e-01, 1.1963e+00, 1.0733e+00,\n         1.1699e-02, 7.6245e-01, 2.8914e+00, 3.1254e+00],\n        [6.9705e-01, 7.1107e-02, 3.2771e+00, 1.2130e+00, 8.2383e-01, 1.0951e+00,\n         1.3630e-01, 1.5917e-01, 4.8893e+00, 2.2529e+00],\n        [8.1685e-01, 6.4764e-01, 1.2936e+00, 1.4094e+00, 4.3048e-01, 4.6511e-01,\n         1.3674e-01, 5.4977e-01, 2.9371e+00, 1.8490e+00],\n        [1.7124e+00, 8.3513e-01, 4.2873e+00, 9.4804e-01, 1.3747e+00, 1.4474e+00,\n         1.5202e-01, 2.9202e-01, 5.4875e+00, 4.2285e+00],\n        [1.6994e+00, 2.0376e-01, 1.5145e+00, 5.1403e-01, 8.4433e-01, 3.4761e-01,\n         1.3840e-01, 3.8223e-01, 2.6214e+00, 2.4599e+00],\n        [7.8718e-01, 7.8173e-01, 2.3756e+00, 5.7079e-01, 3.7521e-01, 1.2498e+00,\n         8.3820e-02, 5.5355e-01, 2.1156e+00, 1.9654e+00],\n        [5.1049e-01, 4.9165e-01, 1.9123e+00, 7.4191e-01, 6.7992e-01, 9.3547e-01,\n         8.4082e-02, 4.4032e-01, 1.8149e+00, 1.8801e+00],\n        [9.7654e-01, 8.8321e-01, 2.3085e+00, 1.2865e+00, 7.2079e-01, 7.6365e-01,\n         4.7394e-02, 5.1275e-01, 3.4546e+00, 2.0446e+00],\n        [1.6834e+00, 9.9477e-01, 2.7923e+00, 1.8334e+00, 1.3669e+00, 1.1371e+00,\n         2.9599e-01, 1.7410e-01, 5.0968e+00, 3.7916e+00],\n        [1.0297e+00, 6.5708e-01, 2.3624e+00, 1.4142e+00, 6.8778e-01, 9.9074e-01,\n         2.1397e-01, 3.2967e-01, 3.7373e+00, 3.0138e+00],\n        [1.5641e+00, 6.0409e-01, 3.3692e+00, 1.5762e+00, 8.7085e-01, 1.7282e+00,\n         3.6893e-02, 5.5542e-01, 3.6696e+00, 2.3846e+00],\n        [1.1515e+00, 6.7332e-01, 3.1216e+00, 1.6922e+00, 7.1959e-01, 2.0015e+00,\n         3.6610e-01, 1.2023e-01, 4.3660e+00, 3.0736e+00],\n        [9.4213e-01, 3.0019e-03, 2.7384e+00, 9.1464e-01, 3.2931e-01, 1.3706e+00,\n         3.1696e-02, 4.7279e-01, 4.1660e+00, 3.3974e+00],\n        [1.6748e+00, 4.5784e-01, 1.2256e+00, 9.6192e-01, 1.7603e-01, 4.2631e-01,\n         2.2012e-01, 7.7193e-01, 3.2920e+00, 2.2957e+00],\n        [2.4441e+00, 9.2823e-01, 6.7611e+00, 9.4731e-01, 1.3520e+00, 2.1629e+00,\n         1.2207e-01, 2.5898e-01, 6.6251e+00, 6.7735e+00],\n        [1.1424e+00, 5.4825e-01, 2.7288e+00, 6.6406e-01, 8.2022e-01, 1.0020e+00,\n         2.7596e-02, 5.3189e-01, 2.8612e+00, 2.9073e+00],\n        [9.6732e-01, 5.4060e-01, 1.5418e+00, 1.2468e+00, 6.4699e-01, 7.2279e-01,\n         1.7944e-01, 3.1165e-01, 2.7612e+00, 2.1519e+00],\n        [1.3483e+00, 6.9507e-01, 3.4080e+00, 6.2180e-01, 7.4592e-01, 1.3668e+00,\n         1.1699e-02, 1.3896e-01, 3.9204e+00, 2.6715e+00],\n        [3.2452e-01, 6.2899e-02, 3.2124e+00, 1.0595e+00, 5.1194e-01, 1.6355e+00,\n         7.4776e-02, 8.6007e-01, 3.6982e+00, 2.2104e+00],\n        [4.5729e-01, 1.1564e+00, 2.4757e+00, 1.2334e+00, 1.6628e+00, 8.0142e-01,\n         4.7998e-02, 2.0861e-01, 3.9224e+00, 4.3535e+00],\n        [1.4488e+00, 6.7222e-01, 2.7759e+00, 2.1291e+00, 5.1949e-01, 8.1880e-01,\n         6.7936e-02, 9.0498e-01, 3.4659e+00, 2.2977e+00],\n        [1.2405e+00, 5.3043e-01, 2.6644e+00, 5.8447e-01, 5.4809e-01, 7.6499e-01,\n         1.4860e-01, 4.1746e-01, 2.7630e+00, 3.0497e+00],\n        [1.2482e+00, 6.9854e-01, 3.6387e+00, 1.5020e+00, 1.7649e+00, 1.2187e+00,\n         3.3984e-01, 7.9167e-01, 4.6479e+00, 4.8019e+00],\n        [1.2104e+00, 5.7829e-02, 2.4239e+00, 1.9886e+00, 7.4511e-01, 1.2045e+00,\n         6.3480e-03, 6.2508e-01, 3.8741e+00, 2.2099e+00],\n        [8.5253e-01, 4.9824e-01, 2.9012e+00, 1.6401e+00, 9.6699e-01, 1.0952e+00,\n         6.9839e-02, 5.0656e-01, 3.7560e+00, 3.1871e+00],\n        [1.8073e+00, 1.6531e-01, 3.4745e+00, 1.4491e+00, 9.5789e-01, 1.2441e+00,\n         1.5609e-01, 2.0000e-01, 4.8598e+00, 4.6461e+00],\n        [4.4501e-01, 7.0375e-01, 2.3839e+00, 3.4406e-01, 4.7804e-01, 1.4877e+00,\n         9.0599e-02, 7.0563e-01, 2.3637e+00, 1.7578e+00],\n        [1.4650e+00, 4.5357e-01, 4.0989e+00, 4.1286e-01, 1.5964e+00, 1.4602e+00,\n         5.9520e-03, 2.5901e-01, 5.2018e+00, 4.3114e+00],\n        [1.0934e+00, 5.0425e-01, 2.8445e+00, 6.6635e-01, 4.6515e-01, 1.1243e+00,\n         4.2307e-02, 9.2109e-02, 3.1864e+00, 2.5547e+00],\n        [9.5378e-01, 7.4721e-01, 2.2834e+00, 1.1770e+00, 6.5147e-01, 3.5942e-01,\n         1.3440e-01, 2.8245e-01, 3.0371e+00, 1.8048e+00],\n        [1.3687e+00, 4.8135e-01, 2.0228e+00, 4.9100e-01, 7.4521e-01, 6.2428e-01,\n         4.2461e-02, 4.9666e-01, 2.6717e+00, 3.0308e+00],\n        [8.6440e-01, 4.0628e-01, 2.0590e+00, 1.2076e+00, 5.8909e-01, 9.0496e-01,\n         5.7696e-02, 4.5275e-01, 4.1745e+00, 1.8857e+00],\n        [1.0205e+00, 1.0765e+00, 2.5475e+00, 1.3715e+00, 7.0078e-01, 8.6997e-01,\n         5.1640e-02, 5.1037e-01, 2.6018e+00, 2.2124e+00]], device='cuda:0',\n       grad_fn=<ViewBackward>)"
     },
     "metadata": {},
     "output_type": "execute_result",
     "execution_count": 39
    }
   ],
   "source": [
    "net(iter(trainloader).next()[0].to(device))"
   ]
  },
  {
   "cell_type": "code",
   "execution_count": 40,
   "metadata": {
    "pycharm": {
     "is_executing": false,
     "name": "#%%\n"
    }
   },
   "outputs": [],
   "source": [
    "criterion = nn.CrossEntropyLoss()\n",
    "optimizer = torch.optim.SGD(net.parameters(), lr=0.001, momentum=0.9)"
   ]
  },
  {
   "cell_type": "code",
   "execution_count": 47,
   "outputs": [
    {
     "name": "stdout",
     "text": [
      "0.06550309717087519\n",
      "0.06487089565822056\n",
      "0.06297644617443993\n",
      "0.06520814645858038\n",
      "0.06257073674883161\n",
      "0.06052588853381929\n",
      "0.0638934934025719\n",
      "0.061259765193575906\n",
      "0.06069259298415411\n",
      "0.05912161279859997\n",
      "0.06012853926704043\n",
      "0.059244807901836574\n",
      "0.057178731600443525\n",
      "0.05925575385774885\n",
      "0.05891791384560721\n",
      "0.05547646120616368\n",
      "0.056050338699704126\n",
      "0.05613342555363973\n",
      "0.05491715129216512\n",
      "0.05615457082930066\n"
     ],
     "output_type": "stream"
    }
   ],
   "source": [
    "for epoch in range(100):\n",
    "    running_loss = 0.0\n",
    "    \n",
    "    for images, labels in iter(trainloader):\n",
    "        images = images.to(device)\n",
    "        labels = labels.to(device)\n",
    "        optimizer.zero_grad()\n",
    "        output = net(images)\n",
    "        loss = criterion(output, labels)\n",
    "        loss.backward()\n",
    "        optimizer.step()\n",
    "        \n",
    "        running_loss += loss.item() * batch_size\n",
    "    print(running_loss / len(trainset))"
   ],
   "metadata": {
    "collapsed": false,
    "pycharm": {
     "name": "#%%\n",
     "is_executing": false
    }
   }
  },
  {
   "cell_type": "code",
   "execution_count": 48,
   "outputs": [],
   "source": [
    "torch.save(net.state_dict(), Path(\"model\") / \"mnist_net.pt\")"
   ],
   "metadata": {
    "collapsed": false,
    "pycharm": {
     "name": "#%%\n",
     "is_executing": false
    }
   }
  },
  {
   "cell_type": "code",
   "execution_count": 52,
   "outputs": [],
   "source": [
    "testset = MNISTDataset(Path(\"data\") / \"test.csv\", train=False)\n",
    "testloader = DataLoader(testset, batch_size=batch_size, num_workers=2)\n",
    "\n",
    "net.eval()\n",
    "predicted = []\n",
    "for images in iter(testloader):\n",
    "    images = images.to(device)\n",
    "    output = net(images)\n",
    "    predicted += torch.argmax(output, dim=1).tolist()"
   ],
   "metadata": {
    "collapsed": false,
    "pycharm": {
     "name": "#%%\n",
     "is_executing": false
    }
   }
  },
  {
   "cell_type": "code",
   "execution_count": 53,
   "outputs": [],
   "source": [
    "import csv\n",
    "with open(\"submission.csv\", \"w\") as f:\n",
    "    writer = csv.writer(f)\n",
    "    writer.writerow([\"ImageId\", \"Label\"])\n",
    "    for i, label in enumerate(predicted, 1):\n",
    "        writer.writerow([i, label])\n",
    "\n"
   ],
   "metadata": {
    "collapsed": false,
    "pycharm": {
     "name": "#%%\n",
     "is_executing": false
    }
   }
  }
 ],
 "metadata": {
  "kernelspec": {
   "display_name": "PyCharm (Pytorch tutorial)",
   "language": "python",
   "name": "pycharm-a3d68ea9"
  },
  "language_info": {
   "codemirror_mode": {
    "name": "ipython",
    "version": 3
   },
   "file_extension": ".py",
   "mimetype": "text/x-python",
   "name": "python",
   "nbconvert_exporter": "python",
   "pygments_lexer": "ipython3",
   "version": "3.7.7"
  },
  "pycharm": {
   "stem_cell": {
    "cell_type": "raw",
    "source": [],
    "metadata": {
     "collapsed": false
    }
   }
  }
 },
 "nbformat": 4,
 "nbformat_minor": 1
}